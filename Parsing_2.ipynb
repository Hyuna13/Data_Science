{
  "nbformat": 4,
  "nbformat_minor": 0,
  "metadata": {
    "colab": {
      "name": "Parsing_2.ipynb",
      "provenance": [],
      "authorship_tag": "ABX9TyOmpmUt3JId80rAkaFAnpQT",
      "include_colab_link": true
    },
    "kernelspec": {
      "name": "python3",
      "display_name": "Python 3"
    },
    "language_info": {
      "name": "python"
    }
  },
  "cells": [
    {
      "cell_type": "markdown",
      "metadata": {
        "id": "view-in-github",
        "colab_type": "text"
      },
      "source": [
        "<a href=\"https://colab.research.google.com/github/Hyuna13/Data_Science/blob/master/Parsing_2.ipynb\" target=\"_parent\"><img src=\"https://colab.research.google.com/assets/colab-badge.svg\" alt=\"Open In Colab\"/></a>"
      ]
    },
    {
      "cell_type": "code",
      "metadata": {
        "id": "bLOP2-Ad3mIp"
      },
      "source": [
        "import time #차단되지 않기 위해\n",
        "import requests\n",
        "from bs4 import BeautifulSoup"
      ],
      "execution_count": 2,
      "outputs": []
    },
    {
      "cell_type": "code",
      "metadata": {
        "colab": {
          "base_uri": "https://localhost:8080/"
        },
        "id": "wSZsNTQn5BFm",
        "outputId": "d1f622b5-b435-4786-85f1-96751df20d4c"
      },
      "source": [
        "#필요한 페이지 가져오기\n",
        "pages = []\n",
        "page_num = 1\n",
        "headers = {'user-agent':'Mozilla/5.0 (Macintosh; Intel Mac OS X 10_15_7) AppleWebKit/537.36 (KHTML, like Gecko) Chrome/92.0.4515.131 Safari/537.36'} #headers 지정\n",
        "\n",
        "while True:\n",
        "  response = requests.get('http://www.ssg.com/search.ssg?target=all&query=nintendo&page=', str(page_num), headers=headers)\n",
        "  soup = BeautifulSoup(response.text, 'html.parser')\n",
        "\n",
        "  #\".csrch_tip\" 클래스가 없을 때만 리스트에 담기\n",
        "  if len(soup.select('.csrch_tip')) == 0:\n",
        "      pages.append(soup)\n",
        "      print(str(page_num) + \"번째\")\n",
        "      page_num += 1\n",
        "      time.sleep(3)\n",
        "      if str(page_num) == '4':\n",
        "          break\n",
        "  else:\n",
        "        break\n",
        "\n",
        "#가져온 페이지 개수 출력하기\n",
        "print(len(pages))"
      ],
      "execution_count": 13,
      "outputs": [
        {
          "output_type": "stream",
          "text": [
            "1번째\n",
            "2번째\n",
            "3번째\n",
            "3\n"
          ],
          "name": "stdout"
        }
      ]
    },
    {
      "cell_type": "code",
      "metadata": {
        "id": "ipVVpLwW6kPV"
      },
      "source": [
        ""
      ],
      "execution_count": null,
      "outputs": []
    }
  ]
}
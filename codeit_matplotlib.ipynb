{
 "cells": [
  {
   "cell_type": "code",
   "execution_count": 1,
   "metadata": {},
   "outputs": [],
   "source": [
    "#선그래프\n",
    "%matplotlib inline\n",
    "\n",
    "import pandas as pd"
   ]
  },
  {
   "cell_type": "code",
   "execution_count": 3,
   "metadata": {},
   "outputs": [
    {
     "data": {
      "text/html": [
       "<div>\n",
       "<style scoped>\n",
       "    .dataframe tbody tr th:only-of-type {\n",
       "        vertical-align: middle;\n",
       "    }\n",
       "\n",
       "    .dataframe tbody tr th {\n",
       "        vertical-align: top;\n",
       "    }\n",
       "\n",
       "    .dataframe thead th {\n",
       "        text-align: right;\n",
       "    }\n",
       "</style>\n",
       "<table border=\"1\" class=\"dataframe\">\n",
       "  <thead>\n",
       "    <tr style=\"text-align: right;\">\n",
       "      <th></th>\n",
       "      <th>KBS</th>\n",
       "      <th>MBC</th>\n",
       "      <th>SBS</th>\n",
       "      <th>TV CHOSUN</th>\n",
       "      <th>JTBC</th>\n",
       "      <th>Channel A</th>\n",
       "      <th>MBN</th>\n",
       "    </tr>\n",
       "  </thead>\n",
       "  <tbody>\n",
       "    <tr>\n",
       "      <th>2011</th>\n",
       "      <td>35.951</td>\n",
       "      <td>18.374</td>\n",
       "      <td>11.173</td>\n",
       "      <td>9.102</td>\n",
       "      <td>7.380</td>\n",
       "      <td>3.771</td>\n",
       "      <td>2.809</td>\n",
       "    </tr>\n",
       "    <tr>\n",
       "      <th>2012</th>\n",
       "      <td>36.163</td>\n",
       "      <td>16.022</td>\n",
       "      <td>11.408</td>\n",
       "      <td>8.785</td>\n",
       "      <td>7.878</td>\n",
       "      <td>5.874</td>\n",
       "      <td>3.310</td>\n",
       "    </tr>\n",
       "    <tr>\n",
       "      <th>2013</th>\n",
       "      <td>31.989</td>\n",
       "      <td>16.778</td>\n",
       "      <td>9.673</td>\n",
       "      <td>9.026</td>\n",
       "      <td>7.810</td>\n",
       "      <td>5.350</td>\n",
       "      <td>3.825</td>\n",
       "    </tr>\n",
       "    <tr>\n",
       "      <th>2014</th>\n",
       "      <td>31.210</td>\n",
       "      <td>15.663</td>\n",
       "      <td>9.108</td>\n",
       "      <td>9.440</td>\n",
       "      <td>7.490</td>\n",
       "      <td>5.776</td>\n",
       "      <td>4.572</td>\n",
       "    </tr>\n",
       "    <tr>\n",
       "      <th>2015</th>\n",
       "      <td>27.777</td>\n",
       "      <td>16.573</td>\n",
       "      <td>9.099</td>\n",
       "      <td>9.940</td>\n",
       "      <td>7.267</td>\n",
       "      <td>6.678</td>\n",
       "      <td>5.520</td>\n",
       "    </tr>\n",
       "    <tr>\n",
       "      <th>2016</th>\n",
       "      <td>27.583</td>\n",
       "      <td>14.982</td>\n",
       "      <td>8.669</td>\n",
       "      <td>9.829</td>\n",
       "      <td>7.727</td>\n",
       "      <td>6.624</td>\n",
       "      <td>5.477</td>\n",
       "    </tr>\n",
       "    <tr>\n",
       "      <th>2017</th>\n",
       "      <td>26.890</td>\n",
       "      <td>12.465</td>\n",
       "      <td>8.661</td>\n",
       "      <td>8.886</td>\n",
       "      <td>9.453</td>\n",
       "      <td>6.056</td>\n",
       "      <td>5.215</td>\n",
       "    </tr>\n",
       "  </tbody>\n",
       "</table>\n",
       "</div>"
      ],
      "text/plain": [
       "         KBS     MBC     SBS  TV CHOSUN   JTBC  Channel A    MBN\n",
       "2011  35.951  18.374  11.173      9.102  7.380      3.771  2.809\n",
       "2012  36.163  16.022  11.408      8.785  7.878      5.874  3.310\n",
       "2013  31.989  16.778   9.673      9.026  7.810      5.350  3.825\n",
       "2014  31.210  15.663   9.108      9.440  7.490      5.776  4.572\n",
       "2015  27.777  16.573   9.099      9.940  7.267      6.678  5.520\n",
       "2016  27.583  14.982   8.669      9.829  7.727      6.624  5.477\n",
       "2017  26.890  12.465   8.661      8.886  9.453      6.056  5.215"
      ]
     },
     "execution_count": 3,
     "metadata": {},
     "output_type": "execute_result"
    }
   ],
   "source": [
    "df = pd.read_csv('data/broadcast.csv', index_col=0)\n",
    "df"
   ]
  },
  {
   "cell_type": "code",
   "execution_count": 4,
   "metadata": {},
   "outputs": [
    {
     "data": {
      "text/plain": [
       "<AxesSubplot:>"
      ]
     },
     "execution_count": 4,
     "metadata": {},
     "output_type": "execute_result"
    },
    {
     "data": {
      "image/png": "[encoded data removed]",
      "text/plain": [
       "<Figure size 432x288 with 1 Axes>"
      ]
     },
     "metadata": {
      "needs_background": "light"
     },
     "output_type": "display_data"
    }
   ],
   "source": [
    "df.plot()#모든"
   ]
  },
  {
   "cell_type": "code",
   "execution_count": 5,
   "metadata": {},
   "outputs": [
    {
     "data": {
      "text/plain": [
       "<AxesSubplot:>"
      ]
     },
     "execution_count": 5,
     "metadata": {},
     "output_type": "execute_result"
    },
    {
     "data": {
      "image/png": "[encoded data removed]",
      "text/plain": [
       "<Figure size 432x288 with 1 Axes>"
      ]
     },
     "metadata": {
      "needs_background": "light"
     },
     "output_type": "display_data"
    }
   ],
   "source": [
    "#한가지만\n",
    "df.plot(y='KBS')"
   ]
  },
  {
   "cell_type": "code",
   "execution_count": 6,
   "metadata": {},
   "outputs": [
    {
     "data": {
      "text/plain": [
       "<AxesSubplot:>"
      ]
     },
     "execution_count": 6,
     "metadata": {},
     "output_type": "execute_result"
    },
    {
     "data": {
      "image/png": "[encoded data removed]",
      "text/plain": [
       "<Figure size 432x288 with 1 Axes>"
      ]
     },
     "metadata": {
      "needs_background": "light"
     },
     "output_type": "display_data"
    }
   ],
   "source": [
    "#여러개 리스트\n",
    "df.plot(y=['KBS','SBS'])"
   ]
  },
  {
   "cell_type": "code",
   "execution_count": 8,
   "metadata": {},
   "outputs": [
    {
     "data": {
      "text/plain": [
       "<AxesSubplot:>"
      ]
     },
     "execution_count": 8,
     "metadata": {},
     "output_type": "execute_result"
    },
    {
     "data": {
      "image/png": "[encoded data removed]",
      "text/plain": [
       "<Figure size 432x288 with 1 Axes>"
      ]
     },
     "metadata": {
      "needs_background": "light"
     },
     "output_type": "display_data"
    }
   ],
   "source": [
    "df[['KBS','SBS']].plot() "
   ]
  },
  {
   "cell_type": "code",
   "execution_count": 9,
   "metadata": {},
   "outputs": [
    {
     "data": {
      "text/html": [
       "<div>\n",
       "<style scoped>\n",
       "    .dataframe tbody tr th:only-of-type {\n",
       "        vertical-align: middle;\n",
       "    }\n",
       "\n",
       "    .dataframe tbody tr th {\n",
       "        vertical-align: top;\n",
       "    }\n",
       "\n",
       "    .dataframe thead th {\n",
       "        text-align: right;\n",
       "    }\n",
       "</style>\n",
       "<table border=\"1\" class=\"dataframe\">\n",
       "  <thead>\n",
       "    <tr style=\"text-align: right;\">\n",
       "      <th></th>\n",
       "      <th>Male</th>\n",
       "      <th>Female</th>\n",
       "    </tr>\n",
       "  </thead>\n",
       "  <tbody>\n",
       "    <tr>\n",
       "      <th>Swimming</th>\n",
       "      <td>103</td>\n",
       "      <td>178</td>\n",
       "    </tr>\n",
       "    <tr>\n",
       "      <th>Baseball</th>\n",
       "      <td>363</td>\n",
       "      <td>289</td>\n",
       "    </tr>\n",
       "    <tr>\n",
       "      <th>Basketball</th>\n",
       "      <td>151</td>\n",
       "      <td>97</td>\n",
       "    </tr>\n",
       "    <tr>\n",
       "      <th>Golf</th>\n",
       "      <td>154</td>\n",
       "      <td>232</td>\n",
       "    </tr>\n",
       "    <tr>\n",
       "      <th>Soccer</th>\n",
       "      <td>413</td>\n",
       "      <td>109</td>\n",
       "    </tr>\n",
       "    <tr>\n",
       "      <th>Bowling</th>\n",
       "      <td>88</td>\n",
       "      <td>129</td>\n",
       "    </tr>\n",
       "  </tbody>\n",
       "</table>\n",
       "</div>"
      ],
      "text/plain": [
       "            Male  Female\n",
       "Swimming     103     178\n",
       "Baseball     363     289\n",
       "Basketball   151      97\n",
       "Golf         154     232\n",
       "Soccer       413     109\n",
       "Bowling       88     129"
      ]
     },
     "execution_count": 9,
     "metadata": {},
     "output_type": "execute_result"
    }
   ],
   "source": [
    "#막대그래프\n",
    "%matplotlib inline\n",
    "import pandas as pd\n",
    "\n",
    "df = pd.read_csv('data/sports.csv', index_col=0)\n",
    "df"
   ]
  },
  {
   "cell_type": "code",
   "execution_count": 11,
   "metadata": {},
   "outputs": [
    {
     "data": {
      "text/plain": [
       "<AxesSubplot:>"
      ]
     },
     "execution_count": 11,
     "metadata": {},
     "output_type": "execute_result"
    },
    {
     "data": {
      "image/png": "[encoded data removed]",
      "text/plain": [
       "<Figure size 432x288 with 1 Axes>"
      ]
     },
     "metadata": {
      "needs_background": "light"
     },
     "output_type": "display_data"
    }
   ],
   "source": [
    "df.plot(kind='bar')"
   ]
  },
  {
   "cell_type": "code",
   "execution_count": 12,
   "metadata": {},
   "outputs": [
    {
     "data": {
      "text/plain": [
       "<AxesSubplot:>"
      ]
     },
     "execution_count": 12,
     "metadata": {},
     "output_type": "execute_result"
    },
    {
     "data": {
      "image/png": "[encoded data removed]",
      "text/plain": [
       "<Figure size 432x288 with 1 Axes>"
      ]
     },
     "metadata": {
      "needs_background": "light"
     },
     "output_type": "display_data"
    }
   ],
   "source": [
    "df.plot(kind='barh')#가로"
   ]
  },
  {
   "cell_type": "code",
   "execution_count": 13,
   "metadata": {},
   "outputs": [
    {
     "data": {
      "text/plain": [
       "<AxesSubplot:>"
      ]
     },
     "execution_count": 13,
     "metadata": {},
     "output_type": "execute_result"
    },
    {
     "data": {
      "image/png": "[encoded data removed]",
      "text/plain": [
       "<Figure size 432x288 with 1 Axes>"
      ]
     },
     "metadata": {
      "needs_background": "light"
     },
     "output_type": "display_data"
    }
   ],
   "source": [
    "df.plot(kind='bar', stacked=True) #쌓아올리기"
   ]
  },
  {
   "cell_type": "code",
   "execution_count": 16,
   "metadata": {},
   "outputs": [
    {
     "data": {
      "text/plain": [
       "<AxesSubplot:>"
      ]
     },
     "execution_count": 16,
     "metadata": {},
     "output_type": "execute_result"
    },
    {
     "data": {
      "image/png": "[encoded data removed]",
      "text/plain": [
       "<Figure size 432x288 with 1 Axes>"
      ]
     },
     "metadata": {
      "needs_background": "light"
     },
     "output_type": "display_data"
    }
   ],
   "source": [
    "df['Female'].plot(kind='bar')"
   ]
  },
  {
   "cell_type": "code",
   "execution_count": 1,
   "metadata": {},
   "outputs": [
    {
     "data": {
      "text/html": [
       "<div>\n",
       "<style scoped>\n",
       "    .dataframe tbody tr th:only-of-type {\n",
       "        vertical-align: middle;\n",
       "    }\n",
       "\n",
       "    .dataframe tbody tr th {\n",
       "        vertical-align: top;\n",
       "    }\n",
       "\n",
       "    .dataframe thead th {\n",
       "        text-align: right;\n",
       "    }\n",
       "</style>\n",
       "<table border=\"1\" class=\"dataframe\">\n",
       "  <thead>\n",
       "    <tr style=\"text-align: right;\">\n",
       "      <th></th>\n",
       "      <th>KBS</th>\n",
       "      <th>MBC</th>\n",
       "      <th>SBS</th>\n",
       "      <th>TV CHOSUN</th>\n",
       "      <th>JTBC</th>\n",
       "      <th>Channel A</th>\n",
       "      <th>MBN</th>\n",
       "    </tr>\n",
       "  </thead>\n",
       "  <tbody>\n",
       "    <tr>\n",
       "      <th>2011</th>\n",
       "      <td>35.951</td>\n",
       "      <td>18.374</td>\n",
       "      <td>11.173</td>\n",
       "      <td>9.102</td>\n",
       "      <td>7.380</td>\n",
       "      <td>3.771</td>\n",
       "      <td>2.809</td>\n",
       "    </tr>\n",
       "    <tr>\n",
       "      <th>2012</th>\n",
       "      <td>36.163</td>\n",
       "      <td>16.022</td>\n",
       "      <td>11.408</td>\n",
       "      <td>8.785</td>\n",
       "      <td>7.878</td>\n",
       "      <td>5.874</td>\n",
       "      <td>3.310</td>\n",
       "    </tr>\n",
       "    <tr>\n",
       "      <th>2013</th>\n",
       "      <td>31.989</td>\n",
       "      <td>16.778</td>\n",
       "      <td>9.673</td>\n",
       "      <td>9.026</td>\n",
       "      <td>7.810</td>\n",
       "      <td>5.350</td>\n",
       "      <td>3.825</td>\n",
       "    </tr>\n",
       "    <tr>\n",
       "      <th>2014</th>\n",
       "      <td>31.210</td>\n",
       "      <td>15.663</td>\n",
       "      <td>9.108</td>\n",
       "      <td>9.440</td>\n",
       "      <td>7.490</td>\n",
       "      <td>5.776</td>\n",
       "      <td>4.572</td>\n",
       "    </tr>\n",
       "    <tr>\n",
       "      <th>2015</th>\n",
       "      <td>27.777</td>\n",
       "      <td>16.573</td>\n",
       "      <td>9.099</td>\n",
       "      <td>9.940</td>\n",
       "      <td>7.267</td>\n",
       "      <td>6.678</td>\n",
       "      <td>5.520</td>\n",
       "    </tr>\n",
       "    <tr>\n",
       "      <th>2016</th>\n",
       "      <td>27.583</td>\n",
       "      <td>14.982</td>\n",
       "      <td>8.669</td>\n",
       "      <td>9.829</td>\n",
       "      <td>7.727</td>\n",
       "      <td>6.624</td>\n",
       "      <td>5.477</td>\n",
       "    </tr>\n",
       "    <tr>\n",
       "      <th>2017</th>\n",
       "      <td>26.890</td>\n",
       "      <td>12.465</td>\n",
       "      <td>8.661</td>\n",
       "      <td>8.886</td>\n",
       "      <td>9.453</td>\n",
       "      <td>6.056</td>\n",
       "      <td>5.215</td>\n",
       "    </tr>\n",
       "  </tbody>\n",
       "</table>\n",
       "</div>"
      ],
      "text/plain": [
       "         KBS     MBC     SBS  TV CHOSUN   JTBC  Channel A    MBN\n",
       "2011  35.951  18.374  11.173      9.102  7.380      3.771  2.809\n",
       "2012  36.163  16.022  11.408      8.785  7.878      5.874  3.310\n",
       "2013  31.989  16.778   9.673      9.026  7.810      5.350  3.825\n",
       "2014  31.210  15.663   9.108      9.440  7.490      5.776  4.572\n",
       "2015  27.777  16.573   9.099      9.940  7.267      6.678  5.520\n",
       "2016  27.583  14.982   8.669      9.829  7.727      6.624  5.477\n",
       "2017  26.890  12.465   8.661      8.886  9.453      6.056  5.215"
      ]
     },
     "execution_count": 1,
     "metadata": {},
     "output_type": "execute_result"
    }
   ],
   "source": [
    "#파이그래프(수치보다는 비율)\n",
    "%matplotlib inline\n",
    "import pandas as pd\n",
    "df = pd.read_csv('data/broadcast.csv', index_col=0)\n",
    "df"
   ]
  },
  {
   "cell_type": "code",
   "execution_count": 4,
   "metadata": {},
   "outputs": [
    {
     "data": {
      "text/plain": [
       "<AxesSubplot:ylabel='2017'>"
      ]
     },
     "execution_count": 4,
     "metadata": {},
     "output_type": "execute_result"
    },
    {
     "data": {
      "image/png": "[encoded data removed]",
      "text/plain": [
       "<Figure size 432x288 with 1 Axes>"
      ]
     },
     "metadata": {},
     "output_type": "display_data"
    }
   ],
   "source": [
    "df.loc[2017].plot(kind='pie')"
   ]
  },
  {
   "cell_type": "code",
   "execution_count": 7,
   "metadata": {},
   "outputs": [
    {
     "data": {
      "text/html": [
       "<div>\n",
       "<style scoped>\n",
       "    .dataframe tbody tr th:only-of-type {\n",
       "        vertical-align: middle;\n",
       "    }\n",
       "\n",
       "    .dataframe tbody tr th {\n",
       "        vertical-align: top;\n",
       "    }\n",
       "\n",
       "    .dataframe thead th {\n",
       "        text-align: right;\n",
       "    }\n",
       "</style>\n",
       "<table border=\"1\" class=\"dataframe\">\n",
       "  <thead>\n",
       "    <tr style=\"text-align: right;\">\n",
       "      <th></th>\n",
       "      <th>Height</th>\n",
       "      <th>Weight</th>\n",
       "    </tr>\n",
       "    <tr>\n",
       "      <th>Number</th>\n",
       "      <th></th>\n",
       "      <th></th>\n",
       "    </tr>\n",
       "  </thead>\n",
       "  <tbody>\n",
       "    <tr>\n",
       "      <th>1</th>\n",
       "      <td>176.0</td>\n",
       "      <td>85.2</td>\n",
       "    </tr>\n",
       "    <tr>\n",
       "      <th>2</th>\n",
       "      <td>175.3</td>\n",
       "      <td>67.7</td>\n",
       "    </tr>\n",
       "    <tr>\n",
       "      <th>3</th>\n",
       "      <td>168.6</td>\n",
       "      <td>75.2</td>\n",
       "    </tr>\n",
       "    <tr>\n",
       "      <th>4</th>\n",
       "      <td>168.1</td>\n",
       "      <td>67.1</td>\n",
       "    </tr>\n",
       "    <tr>\n",
       "      <th>5</th>\n",
       "      <td>175.3</td>\n",
       "      <td>63.0</td>\n",
       "    </tr>\n",
       "    <tr>\n",
       "      <th>6</th>\n",
       "      <td>175.4</td>\n",
       "      <td>72.7</td>\n",
       "    </tr>\n",
       "    <tr>\n",
       "      <th>7</th>\n",
       "      <td>181.5</td>\n",
       "      <td>87.9</td>\n",
       "    </tr>\n",
       "    <tr>\n",
       "      <th>8</th>\n",
       "      <td>174.2</td>\n",
       "      <td>64.5</td>\n",
       "    </tr>\n",
       "    <tr>\n",
       "      <th>9</th>\n",
       "      <td>176.4</td>\n",
       "      <td>57.5</td>\n",
       "    </tr>\n",
       "    <tr>\n",
       "      <th>10</th>\n",
       "      <td>175.8</td>\n",
       "      <td>66.4</td>\n",
       "    </tr>\n",
       "  </tbody>\n",
       "</table>\n",
       "</div>"
      ],
      "text/plain": [
       "        Height  Weight\n",
       "Number                \n",
       "1        176.0    85.2\n",
       "2        175.3    67.7\n",
       "3        168.6    75.2\n",
       "4        168.1    67.1\n",
       "5        175.3    63.0\n",
       "6        175.4    72.7\n",
       "7        181.5    87.9\n",
       "8        174.2    64.5\n",
       "9        176.4    57.5\n",
       "10       175.8    66.4"
      ]
     },
     "execution_count": 7,
     "metadata": {},
     "output_type": "execute_result"
    }
   ],
   "source": [
    "#히스토그램\n",
    "%matplotlib inline\n",
    "import pandas as pd\n",
    "df = pd.read_csv('data/body.csv', index_col=0)\n",
    "df.head(10)"
   ]
  },
  {
   "cell_type": "code",
   "execution_count": 8,
   "metadata": {},
   "outputs": [
    {
     "data": {
      "text/plain": [
       "<AxesSubplot:ylabel='Frequency'>"
      ]
     },
     "execution_count": 8,
     "metadata": {},
     "output_type": "execute_result"
    },
    {
     "data": {
      "image/png": "[encoded data removed]",
      "text/plain": [
       "<Figure size 432x288 with 1 Axes>"
      ]
     },
     "metadata": {
      "needs_background": "light"
     },
     "output_type": "display_data"
    }
   ],
   "source": [
    "df.plot(kind = 'hist', y = 'Height')"
   ]
  },
  {
   "cell_type": "code",
   "execution_count": 9,
   "metadata": {},
   "outputs": [
    {
     "data": {
      "text/plain": [
       "<AxesSubplot:ylabel='Frequency'>"
      ]
     },
     "execution_count": 9,
     "metadata": {},
     "output_type": "execute_result"
    },
    {
     "data": {
      "image/png": "[encoded data removed]",
      "text/plain": [
       "<Figure size 432x288 with 1 Axes>"
      ]
     },
     "metadata": {
      "needs_background": "light"
     },
     "output_type": "display_data"
    }
   ],
   "source": [
    "df.plot(kind = 'hist', y = 'Height', bins = 15)"
   ]
  },
  {
   "cell_type": "code",
   "execution_count": 10,
   "metadata": {},
   "outputs": [
    {
     "data": {
      "text/html": [
       "<div>\n",
       "<style scoped>\n",
       "    .dataframe tbody tr th:only-of-type {\n",
       "        vertical-align: middle;\n",
       "    }\n",
       "\n",
       "    .dataframe tbody tr th {\n",
       "        vertical-align: top;\n",
       "    }\n",
       "\n",
       "    .dataframe thead th {\n",
       "        text-align: right;\n",
       "    }\n",
       "</style>\n",
       "<table border=\"1\" class=\"dataframe\">\n",
       "  <thead>\n",
       "    <tr style=\"text-align: right;\">\n",
       "      <th></th>\n",
       "      <th>gender</th>\n",
       "      <th>race/ethnicity</th>\n",
       "      <th>parental level of education</th>\n",
       "      <th>lunch</th>\n",
       "      <th>test preparation course</th>\n",
       "      <th>math score</th>\n",
       "      <th>reading score</th>\n",
       "      <th>writing score</th>\n",
       "    </tr>\n",
       "  </thead>\n",
       "  <tbody>\n",
       "    <tr>\n",
       "      <th>0</th>\n",
       "      <td>female</td>\n",
       "      <td>group B</td>\n",
       "      <td>bachelor's degree</td>\n",
       "      <td>standard</td>\n",
       "      <td>none</td>\n",
       "      <td>72</td>\n",
       "      <td>72</td>\n",
       "      <td>74</td>\n",
       "    </tr>\n",
       "    <tr>\n",
       "      <th>1</th>\n",
       "      <td>female</td>\n",
       "      <td>group C</td>\n",
       "      <td>some college</td>\n",
       "      <td>standard</td>\n",
       "      <td>completed</td>\n",
       "      <td>69</td>\n",
       "      <td>90</td>\n",
       "      <td>88</td>\n",
       "    </tr>\n",
       "    <tr>\n",
       "      <th>2</th>\n",
       "      <td>female</td>\n",
       "      <td>group B</td>\n",
       "      <td>master's degree</td>\n",
       "      <td>standard</td>\n",
       "      <td>none</td>\n",
       "      <td>90</td>\n",
       "      <td>95</td>\n",
       "      <td>93</td>\n",
       "    </tr>\n",
       "    <tr>\n",
       "      <th>3</th>\n",
       "      <td>male</td>\n",
       "      <td>group A</td>\n",
       "      <td>associate's degree</td>\n",
       "      <td>free/reduced</td>\n",
       "      <td>none</td>\n",
       "      <td>47</td>\n",
       "      <td>57</td>\n",
       "      <td>44</td>\n",
       "    </tr>\n",
       "    <tr>\n",
       "      <th>4</th>\n",
       "      <td>male</td>\n",
       "      <td>group C</td>\n",
       "      <td>some college</td>\n",
       "      <td>standard</td>\n",
       "      <td>none</td>\n",
       "      <td>76</td>\n",
       "      <td>78</td>\n",
       "      <td>75</td>\n",
       "    </tr>\n",
       "  </tbody>\n",
       "</table>\n",
       "</div>"
      ],
      "text/plain": [
       "   gender race/ethnicity parental level of education         lunch  \\\n",
       "0  female        group B           bachelor's degree      standard   \n",
       "1  female        group C                some college      standard   \n",
       "2  female        group B             master's degree      standard   \n",
       "3    male        group A          associate's degree  free/reduced   \n",
       "4    male        group C                some college      standard   \n",
       "\n",
       "  test preparation course  math score  reading score  writing score  \n",
       "0                    none          72             72             74  \n",
       "1               completed          69             90             88  \n",
       "2                    none          90             95             93  \n",
       "3                    none          47             57             44  \n",
       "4                    none          76             78             75  "
      ]
     },
     "execution_count": 10,
     "metadata": {},
     "output_type": "execute_result"
    }
   ],
   "source": [
    "#박스플롯\n",
    "%matplotlib inline\n",
    "import pandas as pd\n",
    "df = pd.read_csv('data/exam.csv')\n",
    "df.head()"
   ]
  },
  {
   "cell_type": "code",
   "execution_count": 11,
   "metadata": {},
   "outputs": [
    {
     "data": {
      "text/plain": [
       "count    1000.00000\n",
       "mean       66.08900\n",
       "std        15.16308\n",
       "min         0.00000\n",
       "25%        57.00000\n",
       "50%        66.00000\n",
       "75%        77.00000\n",
       "max       100.00000\n",
       "Name: math score, dtype: float64"
      ]
     },
     "execution_count": 11,
     "metadata": {},
     "output_type": "execute_result"
    }
   ],
   "source": [
    "df['math score'].describe()"
   ]
  },
  {
   "cell_type": "code",
   "execution_count": 12,
   "metadata": {},
   "outputs": [
    {
     "data": {
      "text/plain": [
       "<AxesSubplot:>"
      ]
     },
     "execution_count": 12,
     "metadata": {},
     "output_type": "execute_result"
    },
    {
     "data": {
      "image/png": "[encoded data removed]",
      "text/plain": [
       "<Figure size 432x288 with 1 Axes>"
      ]
     },
     "metadata": {
      "needs_background": "light"
     },
     "output_type": "display_data"
    }
   ],
   "source": [
    "df.plot(kind='box', y='math score')"
   ]
  },
  {
   "cell_type": "code",
   "execution_count": 13,
   "metadata": {},
   "outputs": [
    {
     "data": {
      "text/plain": [
       "<AxesSubplot:>"
      ]
     },
     "execution_count": 13,
     "metadata": {},
     "output_type": "execute_result"
    },
    {
     "data": {
      "image/png": "[encoded data removed]",
      "text/plain": [
       "<Figure size 432x288 with 1 Axes>"
      ]
     },
     "metadata": {
      "needs_background": "light"
     },
     "output_type": "display_data"
    }
   ],
   "source": [
    "#여러개\n",
    "df.plot(kind='box', y=['math score','writing score','reading score'])"
   ]
  },
  {
   "cell_type": "code",
   "execution_count": 14,
   "metadata": {},
   "outputs": [
    {
     "data": {
      "text/plain": [
       "<AxesSubplot:xlabel='math score', ylabel='reading score'>"
      ]
     },
     "execution_count": 14,
     "metadata": {},
     "output_type": "execute_result"
    },
    {
     "data": {
      "image/png": "[encoded data removed]",
      "text/plain": [
       "<Figure size 432x288 with 1 Axes>"
      ]
     },
     "metadata": {
      "needs_background": "light"
     },
     "output_type": "display_data"
    }
   ],
   "source": [
    "#산점도(연관성)\n",
    "df.plot(kind='scatter', x='math score',y='reading score')"
   ]
  },
  {
   "cell_type": "code",
   "execution_count": 17,
   "metadata": {},
   "outputs": [
    {
     "data": {
      "text/html": [
       "<div>\n",
       "<style scoped>\n",
       "    .dataframe tbody tr th:only-of-type {\n",
       "        vertical-align: middle;\n",
       "    }\n",
       "\n",
       "    .dataframe tbody tr th {\n",
       "        vertical-align: top;\n",
       "    }\n",
       "\n",
       "    .dataframe thead th {\n",
       "        text-align: right;\n",
       "    }\n",
       "</style>\n",
       "<table border=\"1\" class=\"dataframe\">\n",
       "  <thead>\n",
       "    <tr style=\"text-align: right;\">\n",
       "      <th></th>\n",
       "      <th>Id</th>\n",
       "      <th>Human Development Index HDI-2014</th>\n",
       "      <th>Gini coefficient 2005-2013</th>\n",
       "      <th>Adolescent birth rate 15-19 per 100k 20102015</th>\n",
       "      <th>Birth registration funder age 5 2005-2013</th>\n",
       "      <th>Carbon dioxide emissionsAverage annual growth</th>\n",
       "      <th>Carbon dioxide emissions per capita 2011 Tones</th>\n",
       "      <th>Change forest percentable 1900 to 2012</th>\n",
       "      <th>Change mobile usage 2009 2014</th>\n",
       "      <th>Consumer price index 2013</th>\n",
       "      <th>...</th>\n",
       "      <th>Renewable sources percentage of total 2012</th>\n",
       "      <th>Research and development expenditure  2005-2012</th>\n",
       "      <th>Secondary 2008-2014</th>\n",
       "      <th>Share of seats in parliament percentage held by womand 2014</th>\n",
       "      <th>Stock of immigrants percentage of population 2013</th>\n",
       "      <th>Taxes on income profit and capital gain 205 2013</th>\n",
       "      <th>Tertiary -2008-2014</th>\n",
       "      <th>Total tax revenue of GDP 2005-2013</th>\n",
       "      <th>Tuberculosis rate per thousands 2012</th>\n",
       "      <th>Under-five Mortality 2013 thousands</th>\n",
       "    </tr>\n",
       "  </thead>\n",
       "  <tbody>\n",
       "    <tr>\n",
       "      <th>0</th>\n",
       "      <td>Norway</td>\n",
       "      <td>0.943877</td>\n",
       "      <td>26.83</td>\n",
       "      <td>7.834</td>\n",
       "      <td>100.000000</td>\n",
       "      <td>0.778925</td>\n",
       "      <td>9.192879</td>\n",
       "      <td>11.914567</td>\n",
       "      <td>5.22</td>\n",
       "      <td>104.194175</td>\n",
       "      <td>...</td>\n",
       "      <td>47.752676</td>\n",
       "      <td>1.654740</td>\n",
       "      <td>111.061300</td>\n",
       "      <td>39.644970</td>\n",
       "      <td>13.772622</td>\n",
       "      <td>31.798391</td>\n",
       "      <td>74.10112</td>\n",
       "      <td>27.288097</td>\n",
       "      <td>0.14</td>\n",
       "      <td>2.8</td>\n",
       "    </tr>\n",
       "    <tr>\n",
       "      <th>1</th>\n",
       "      <td>Australia</td>\n",
       "      <td>0.934958</td>\n",
       "      <td>34.01</td>\n",
       "      <td>12.059</td>\n",
       "      <td>100.000000</td>\n",
       "      <td>1.090351</td>\n",
       "      <td>16.519210</td>\n",
       "      <td>-4.561812</td>\n",
       "      <td>30.27</td>\n",
       "      <td>107.789440</td>\n",
       "      <td>...</td>\n",
       "      <td>4.632202</td>\n",
       "      <td>2.385620</td>\n",
       "      <td>135.535430</td>\n",
       "      <td>30.530973</td>\n",
       "      <td>27.711793</td>\n",
       "      <td>65.333748</td>\n",
       "      <td>86.33409</td>\n",
       "      <td>21.361426</td>\n",
       "      <td>0.19</td>\n",
       "      <td>4.0</td>\n",
       "    </tr>\n",
       "    <tr>\n",
       "      <th>2</th>\n",
       "      <td>Switzerland</td>\n",
       "      <td>0.929613</td>\n",
       "      <td>32.35</td>\n",
       "      <td>1.900</td>\n",
       "      <td>100.000000</td>\n",
       "      <td>-1.101254</td>\n",
       "      <td>4.625230</td>\n",
       "      <td>8.567416</td>\n",
       "      <td>16.72</td>\n",
       "      <td>99.317229</td>\n",
       "      <td>...</td>\n",
       "      <td>49.659398</td>\n",
       "      <td>2.870460</td>\n",
       "      <td>96.306380</td>\n",
       "      <td>28.455285</td>\n",
       "      <td>28.906998</td>\n",
       "      <td>22.673299</td>\n",
       "      <td>55.56190</td>\n",
       "      <td>9.759124</td>\n",
       "      <td>0.22</td>\n",
       "      <td>4.2</td>\n",
       "    </tr>\n",
       "    <tr>\n",
       "      <th>3</th>\n",
       "      <td>Denmark</td>\n",
       "      <td>0.923328</td>\n",
       "      <td>26.88</td>\n",
       "      <td>5.101</td>\n",
       "      <td>100.000000</td>\n",
       "      <td>-1.767733</td>\n",
       "      <td>7.248329</td>\n",
       "      <td>23.029974</td>\n",
       "      <td>1.83</td>\n",
       "      <td>106.057718</td>\n",
       "      <td>...</td>\n",
       "      <td>26.767245</td>\n",
       "      <td>2.984160</td>\n",
       "      <td>124.659270</td>\n",
       "      <td>37.988827</td>\n",
       "      <td>9.909512</td>\n",
       "      <td>39.677938</td>\n",
       "      <td>79.59763</td>\n",
       "      <td>33.395651</td>\n",
       "      <td>0.40</td>\n",
       "      <td>3.5</td>\n",
       "    </tr>\n",
       "    <tr>\n",
       "      <th>4</th>\n",
       "      <td>Netherlands</td>\n",
       "      <td>0.921794</td>\n",
       "      <td>28.87</td>\n",
       "      <td>6.165</td>\n",
       "      <td>100.000000</td>\n",
       "      <td>-0.252734</td>\n",
       "      <td>10.064490</td>\n",
       "      <td>5.922602</td>\n",
       "      <td>-4.31</td>\n",
       "      <td>107.474154</td>\n",
       "      <td>...</td>\n",
       "      <td>6.671366</td>\n",
       "      <td>2.156760</td>\n",
       "      <td>129.912770</td>\n",
       "      <td>36.888889</td>\n",
       "      <td>11.724418</td>\n",
       "      <td>23.533104</td>\n",
       "      <td>77.34356</td>\n",
       "      <td>19.724059</td>\n",
       "      <td>0.17</td>\n",
       "      <td>4.0</td>\n",
       "    </tr>\n",
       "    <tr>\n",
       "      <th>...</th>\n",
       "      <td>...</td>\n",
       "      <td>...</td>\n",
       "      <td>...</td>\n",
       "      <td>...</td>\n",
       "      <td>...</td>\n",
       "      <td>...</td>\n",
       "      <td>...</td>\n",
       "      <td>...</td>\n",
       "      <td>...</td>\n",
       "      <td>...</td>\n",
       "      <td>...</td>\n",
       "      <td>...</td>\n",
       "      <td>...</td>\n",
       "      <td>...</td>\n",
       "      <td>...</td>\n",
       "      <td>...</td>\n",
       "      <td>...</td>\n",
       "      <td>...</td>\n",
       "      <td>...</td>\n",
       "      <td>...</td>\n",
       "      <td>...</td>\n",
       "    </tr>\n",
       "    <tr>\n",
       "      <th>183</th>\n",
       "      <td>Burundi</td>\n",
       "      <td>0.399928</td>\n",
       "      <td>33.27</td>\n",
       "      <td>30.256</td>\n",
       "      <td>75.000000</td>\n",
       "      <td>0.630172</td>\n",
       "      <td>0.021909</td>\n",
       "      <td>-41.730104</td>\n",
       "      <td>195.33</td>\n",
       "      <td>140.018625</td>\n",
       "      <td>...</td>\n",
       "      <td>53.544693</td>\n",
       "      <td>0.121260</td>\n",
       "      <td>33.102310</td>\n",
       "      <td>34.931507</td>\n",
       "      <td>2.504071</td>\n",
       "      <td>19.855360</td>\n",
       "      <td>3.16599</td>\n",
       "      <td>11.006974</td>\n",
       "      <td>18.00</td>\n",
       "      <td>82.9</td>\n",
       "    </tr>\n",
       "    <tr>\n",
       "      <th>184</th>\n",
       "      <td>Chad</td>\n",
       "      <td>0.391906</td>\n",
       "      <td>43.30</td>\n",
       "      <td>152.015</td>\n",
       "      <td>16.000000</td>\n",
       "      <td>0.861268</td>\n",
       "      <td>0.044623</td>\n",
       "      <td>-13.298246</td>\n",
       "      <td>98.14</td>\n",
       "      <td>109.954331</td>\n",
       "      <td>...</td>\n",
       "      <td>88.289148</td>\n",
       "      <td>0.612717</td>\n",
       "      <td>22.794100</td>\n",
       "      <td>14.893617</td>\n",
       "      <td>3.423823</td>\n",
       "      <td>27.618325</td>\n",
       "      <td>2.25039</td>\n",
       "      <td>15.978897</td>\n",
       "      <td>18.00</td>\n",
       "      <td>147.5</td>\n",
       "    </tr>\n",
       "    <tr>\n",
       "      <th>185</th>\n",
       "      <td>Eritrea</td>\n",
       "      <td>0.390899</td>\n",
       "      <td>36.75</td>\n",
       "      <td>65.280</td>\n",
       "      <td>99.333333</td>\n",
       "      <td>2.709607</td>\n",
       "      <td>0.087768</td>\n",
       "      <td>-6.033313</td>\n",
       "      <td>151.49</td>\n",
       "      <td>113.652667</td>\n",
       "      <td>...</td>\n",
       "      <td>78.271531</td>\n",
       "      <td>0.226783</td>\n",
       "      <td>42.522027</td>\n",
       "      <td>22.000000</td>\n",
       "      <td>0.249450</td>\n",
       "      <td>17.402965</td>\n",
       "      <td>2.04323</td>\n",
       "      <td>13.265781</td>\n",
       "      <td>4.60</td>\n",
       "      <td>49.9</td>\n",
       "    </tr>\n",
       "    <tr>\n",
       "      <th>186</th>\n",
       "      <td>Central African Republic</td>\n",
       "      <td>0.350131</td>\n",
       "      <td>56.30</td>\n",
       "      <td>98.334</td>\n",
       "      <td>61.000000</td>\n",
       "      <td>-1.829932</td>\n",
       "      <td>0.064475</td>\n",
       "      <td>-2.835840</td>\n",
       "      <td>54.91</td>\n",
       "      <td>108.757088</td>\n",
       "      <td>...</td>\n",
       "      <td>80.467360</td>\n",
       "      <td>0.253410</td>\n",
       "      <td>17.791890</td>\n",
       "      <td>12.500000</td>\n",
       "      <td>2.907818</td>\n",
       "      <td>6.902223</td>\n",
       "      <td>2.84086</td>\n",
       "      <td>9.455153</td>\n",
       "      <td>50.00</td>\n",
       "      <td>139.2</td>\n",
       "    </tr>\n",
       "    <tr>\n",
       "      <th>187</th>\n",
       "      <td>Niger</td>\n",
       "      <td>0.348254</td>\n",
       "      <td>31.16</td>\n",
       "      <td>204.789</td>\n",
       "      <td>64.000000</td>\n",
       "      <td>1.835631</td>\n",
       "      <td>0.086170</td>\n",
       "      <td>-39.372751</td>\n",
       "      <td>161.65</td>\n",
       "      <td>105.786143</td>\n",
       "      <td>...</td>\n",
       "      <td>26.755224</td>\n",
       "      <td>0.088957</td>\n",
       "      <td>15.924760</td>\n",
       "      <td>13.274336</td>\n",
       "      <td>0.741921</td>\n",
       "      <td>11.558007</td>\n",
       "      <td>1.75417</td>\n",
       "      <td>11.337822</td>\n",
       "      <td>16.00</td>\n",
       "      <td>104.2</td>\n",
       "    </tr>\n",
       "  </tbody>\n",
       "</table>\n",
       "<p>188 rows × 66 columns</p>\n",
       "</div>"
      ],
      "text/plain": [
       "                           Id  Human Development Index HDI-2014  \\\n",
       "0                      Norway                          0.943877   \n",
       "1                   Australia                          0.934958   \n",
       "2                 Switzerland                          0.929613   \n",
       "3                     Denmark                          0.923328   \n",
       "4                 Netherlands                          0.921794   \n",
       "..                        ...                               ...   \n",
       "183                   Burundi                          0.399928   \n",
       "184                      Chad                          0.391906   \n",
       "185                   Eritrea                          0.390899   \n",
       "186  Central African Republic                          0.350131   \n",
       "187                     Niger                          0.348254   \n",
       "\n",
       "     Gini coefficient 2005-2013  \\\n",
       "0                         26.83   \n",
       "1                         34.01   \n",
       "2                         32.35   \n",
       "3                         26.88   \n",
       "4                         28.87   \n",
       "..                          ...   \n",
       "183                       33.27   \n",
       "184                       43.30   \n",
       "185                       36.75   \n",
       "186                       56.30   \n",
       "187                       31.16   \n",
       "\n",
       "     Adolescent birth rate 15-19 per 100k 20102015  \\\n",
       "0                                            7.834   \n",
       "1                                           12.059   \n",
       "2                                            1.900   \n",
       "3                                            5.101   \n",
       "4                                            6.165   \n",
       "..                                             ...   \n",
       "183                                         30.256   \n",
       "184                                        152.015   \n",
       "185                                         65.280   \n",
       "186                                         98.334   \n",
       "187                                        204.789   \n",
       "\n",
       "     Birth registration funder age 5 2005-2013  \\\n",
       "0                                   100.000000   \n",
       "1                                   100.000000   \n",
       "2                                   100.000000   \n",
       "3                                   100.000000   \n",
       "4                                   100.000000   \n",
       "..                                         ...   \n",
       "183                                  75.000000   \n",
       "184                                  16.000000   \n",
       "185                                  99.333333   \n",
       "186                                  61.000000   \n",
       "187                                  64.000000   \n",
       "\n",
       "     Carbon dioxide emissionsAverage annual growth  \\\n",
       "0                                         0.778925   \n",
       "1                                         1.090351   \n",
       "2                                        -1.101254   \n",
       "3                                        -1.767733   \n",
       "4                                        -0.252734   \n",
       "..                                             ...   \n",
       "183                                       0.630172   \n",
       "184                                       0.861268   \n",
       "185                                       2.709607   \n",
       "186                                      -1.829932   \n",
       "187                                       1.835631   \n",
       "\n",
       "     Carbon dioxide emissions per capita 2011 Tones  \\\n",
       "0                                          9.192879   \n",
       "1                                         16.519210   \n",
       "2                                          4.625230   \n",
       "3                                          7.248329   \n",
       "4                                         10.064490   \n",
       "..                                              ...   \n",
       "183                                        0.021909   \n",
       "184                                        0.044623   \n",
       "185                                        0.087768   \n",
       "186                                        0.064475   \n",
       "187                                        0.086170   \n",
       "\n",
       "     Change forest percentable 1900 to 2012  Change mobile usage 2009 2014  \\\n",
       "0                                 11.914567                           5.22   \n",
       "1                                 -4.561812                          30.27   \n",
       "2                                  8.567416                          16.72   \n",
       "3                                 23.029974                           1.83   \n",
       "4                                  5.922602                          -4.31   \n",
       "..                                      ...                            ...   \n",
       "183                              -41.730104                         195.33   \n",
       "184                              -13.298246                          98.14   \n",
       "185                               -6.033313                         151.49   \n",
       "186                               -2.835840                          54.91   \n",
       "187                              -39.372751                         161.65   \n",
       "\n",
       "     Consumer price index 2013  ...  \\\n",
       "0                   104.194175  ...   \n",
       "1                   107.789440  ...   \n",
       "2                    99.317229  ...   \n",
       "3                   106.057718  ...   \n",
       "4                   107.474154  ...   \n",
       "..                         ...  ...   \n",
       "183                 140.018625  ...   \n",
       "184                 109.954331  ...   \n",
       "185                 113.652667  ...   \n",
       "186                 108.757088  ...   \n",
       "187                 105.786143  ...   \n",
       "\n",
       "     Renewable sources percentage of total 2012  \\\n",
       "0                                     47.752676   \n",
       "1                                      4.632202   \n",
       "2                                     49.659398   \n",
       "3                                     26.767245   \n",
       "4                                      6.671366   \n",
       "..                                          ...   \n",
       "183                                   53.544693   \n",
       "184                                   88.289148   \n",
       "185                                   78.271531   \n",
       "186                                   80.467360   \n",
       "187                                   26.755224   \n",
       "\n",
       "     Research and development expenditure  2005-2012  Secondary 2008-2014  \\\n",
       "0                                           1.654740           111.061300   \n",
       "1                                           2.385620           135.535430   \n",
       "2                                           2.870460            96.306380   \n",
       "3                                           2.984160           124.659270   \n",
       "4                                           2.156760           129.912770   \n",
       "..                                               ...                  ...   \n",
       "183                                         0.121260            33.102310   \n",
       "184                                         0.612717            22.794100   \n",
       "185                                         0.226783            42.522027   \n",
       "186                                         0.253410            17.791890   \n",
       "187                                         0.088957            15.924760   \n",
       "\n",
       "     Share of seats in parliament percentage held by womand 2014  \\\n",
       "0                                            39.644970             \n",
       "1                                            30.530973             \n",
       "2                                            28.455285             \n",
       "3                                            37.988827             \n",
       "4                                            36.888889             \n",
       "..                                                 ...             \n",
       "183                                          34.931507             \n",
       "184                                          14.893617             \n",
       "185                                          22.000000             \n",
       "186                                          12.500000             \n",
       "187                                          13.274336             \n",
       "\n",
       "     Stock of immigrants percentage of population 2013  \\\n",
       "0                                            13.772622   \n",
       "1                                            27.711793   \n",
       "2                                            28.906998   \n",
       "3                                             9.909512   \n",
       "4                                            11.724418   \n",
       "..                                                 ...   \n",
       "183                                           2.504071   \n",
       "184                                           3.423823   \n",
       "185                                           0.249450   \n",
       "186                                           2.907818   \n",
       "187                                           0.741921   \n",
       "\n",
       "     Taxes on income profit and capital gain 205 2013  Tertiary -2008-2014  \\\n",
       "0                                           31.798391             74.10112   \n",
       "1                                           65.333748             86.33409   \n",
       "2                                           22.673299             55.56190   \n",
       "3                                           39.677938             79.59763   \n",
       "4                                           23.533104             77.34356   \n",
       "..                                                ...                  ...   \n",
       "183                                         19.855360              3.16599   \n",
       "184                                         27.618325              2.25039   \n",
       "185                                         17.402965              2.04323   \n",
       "186                                          6.902223              2.84086   \n",
       "187                                         11.558007              1.75417   \n",
       "\n",
       "     Total tax revenue of GDP 2005-2013  Tuberculosis rate per thousands 2012  \\\n",
       "0                             27.288097                                  0.14   \n",
       "1                             21.361426                                  0.19   \n",
       "2                              9.759124                                  0.22   \n",
       "3                             33.395651                                  0.40   \n",
       "4                             19.724059                                  0.17   \n",
       "..                                  ...                                   ...   \n",
       "183                           11.006974                                 18.00   \n",
       "184                           15.978897                                 18.00   \n",
       "185                           13.265781                                  4.60   \n",
       "186                            9.455153                                 50.00   \n",
       "187                           11.337822                                 16.00   \n",
       "\n",
       "     Under-five Mortality 2013 thousands  \n",
       "0                                    2.8  \n",
       "1                                    4.0  \n",
       "2                                    4.2  \n",
       "3                                    3.5  \n",
       "4                                    4.0  \n",
       "..                                   ...  \n",
       "183                                 82.9  \n",
       "184                                147.5  \n",
       "185                                 49.9  \n",
       "186                                139.2  \n",
       "187                                104.2  \n",
       "\n",
       "[188 rows x 66 columns]"
      ]
     },
     "execution_count": 17,
     "metadata": {},
     "output_type": "execute_result"
    }
   ],
   "source": [
    "#국가 지표 분석\n",
    "%matplotlib inline\n",
    "import pandas as pd\n",
    "df = pd.read_csv('data/world_indexes.csv')\n",
    "df"
   ]
  },
  {
   "cell_type": "code",
   "execution_count": 18,
   "metadata": {},
   "outputs": [
    {
     "data": {
      "text/plain": [
       "<AxesSubplot:xlabel='Life expectancy at birth- years', ylabel='Internet users percentage of population 2014'>"
      ]
     },
     "execution_count": 18,
     "metadata": {},
     "output_type": "execute_result"
    },
    {
     "data": {
      "image/png": "[encoded data removed]",
      "text/plain": [
       "<Figure size 432x288 with 1 Axes>"
      ]
     },
     "metadata": {
      "needs_background": "light"
     },
     "output_type": "display_data"
    }
   ],
   "source": [
    "df.plot(kind='scatter', x='Life expectancy at birth- years', y='Internet users percentage of population 2014')"
   ]
  },
  {
   "cell_type": "code",
   "execution_count": 19,
   "metadata": {},
   "outputs": [
    {
     "data": {
      "text/plain": [
       "<AxesSubplot:xlabel='Forest area percentage of total land area 2012', ylabel='Carbon dioxide emissionsAverage annual growth'>"
      ]
     },
     "execution_count": 19,
     "metadata": {},
     "output_type": "execute_result"
    },
    {
     "data": {
      "image/png": "[encoded data removed]",
      "text/plain": [
       "<Figure size 432x288 with 1 Axes>"
      ]
     },
     "metadata": {
      "needs_background": "light"
     },
     "output_type": "display_data"
    }
   ],
   "source": [
    "df.plot(kind='scatter', x='Forest area percentage of total land area 2012', y='Carbon dioxide emissionsAverage annual growth')"
   ]
  },
  {
   "cell_type": "code",
   "execution_count": 20,
   "metadata": {},
   "outputs": [
    {
     "data": {
      "text/plain": [
       "<AxesSubplot:xlabel='Internet users percentage of population 2014', ylabel='Forest area percentage of total land area 2012'>"
      ]
     },
     "execution_count": 20,
     "metadata": {},
     "output_type": "execute_result"
    },
    {
     "data": {
      "image/png": "[encoded data removed]",
      "text/plain": [
       "<Figure size 432x288 with 1 Axes>"
      ]
     },
     "metadata": {
      "needs_background": "light"
     },
     "output_type": "display_data"
    }
   ],
   "source": [
    "df.plot(kind='scatter', x='Internet users percentage of population 2014', y='Forest area percentage of total land area 2012')"
   ]
  },
  {
   "cell_type": "code",
   "execution_count": 21,
   "metadata": {},
   "outputs": [
    {
     "data": {
      "text/plain": [
       "<AxesSubplot:xlabel='Life expectancy at birth- years', ylabel='Carbon dioxide emissionsAverage annual growth'>"
      ]
     },
     "execution_count": 21,
     "metadata": {},
     "output_type": "execute_result"
    },
    {
     "data": {
      "image/png": "[encoded data removed]",
      "text/plain": [
       "<Figure size 432x288 with 1 Axes>"
      ]
     },
     "metadata": {
      "needs_background": "light"
     },
     "output_type": "display_data"
    }
   ],
   "source": [
    "df.plot(kind='scatter', x='Life expectancy at birth- years', y='Carbon dioxide emissionsAverage annual growth')"
   ]
  },
  {
   "cell_type": "code",
   "execution_count": null,
   "metadata": {},
   "outputs": [],
   "source": [
    "df.plot(kind='scatter', x='Life expectancy at birth- years', y='Carbon dioxide emissionsAverage annual growth')"
   ]
  }
 ],
 "metadata": {
  "kernelspec": {
   "display_name": "Python 3",
   "language": "python",
   "name": "python3"
  },
  "language_info": {
   "codemirror_mode": {
    "name": "ipython",
    "version": 3
   },
   "file_extension": ".py",
   "mimetype": "text/x-python",
   "name": "python",
   "nbconvert_exporter": "python",
   "pygments_lexer": "ipython3",
   "version": "3.8.5"
  }
 },
 "nbformat": 4,
 "nbformat_minor": 4
}

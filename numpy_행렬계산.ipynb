{
  "nbformat": 4,
  "nbformat_minor": 0,
  "metadata": {
    "colab": {
      "name": "numpy 행렬계산.ipynb",
      "provenance": [],
      "authorship_tag": "ABX9TyMjR19xhDCaykLUTW3oyAuL",
      "include_colab_link": true
    },
    "kernelspec": {
      "name": "python3",
      "display_name": "Python 3"
    },
    "language_info": {
      "name": "python"
    }
  },
  "cells": [
    {
      "cell_type": "markdown",
      "metadata": {
        "id": "view-in-github",
        "colab_type": "text"
      },
      "source": [
        "<a href=\"https://colab.research.google.com/github/Hyuna13/Data_Science/blob/master/numpy_%ED%96%89%EB%A0%AC%EA%B3%84%EC%82%B0.ipynb\" target=\"_parent\"><img src=\"https://colab.research.google.com/assets/colab-badge.svg\" alt=\"Open In Colab\"/></a>"
      ]
    },
    {
      "cell_type": "code",
      "metadata": {
        "id": "ie3aHGdVx4YZ"
      },
      "source": [
        "import numpy as np"
      ],
      "execution_count": 1,
      "outputs": []
    },
    {
      "cell_type": "code",
      "metadata": {
        "id": "PicPN9oZ3LXe"
      },
      "source": [
        "A = np.array([\n",
        "              [1, -1, 2],\n",
        "              [3,2,2],\n",
        "              [4,1,2]\n",
        "])\n",
        "\n",
        "B = np.random.rand(3, 3)"
      ],
      "execution_count": 3,
      "outputs": []
    },
    {
      "cell_type": "code",
      "metadata": {
        "colab": {
          "base_uri": "https://localhost:8080/"
        },
        "id": "6Hv1NqwK5aCh",
        "outputId": "84c61ea1-c483-4ed7-c740-efa5b76f5c0b"
      },
      "source": [
        "A"
      ],
      "execution_count": 4,
      "outputs": [
        {
          "output_type": "execute_result",
          "data": {
            "text/plain": [
              "array([[ 1, -1,  2],\n",
              "       [ 3,  2,  2],\n",
              "       [ 4,  1,  2]])"
            ]
          },
          "metadata": {},
          "execution_count": 4
        }
      ]
    },
    {
      "cell_type": "code",
      "metadata": {
        "colab": {
          "base_uri": "https://localhost:8080/"
        },
        "id": "dj3uL09_5cUR",
        "outputId": "942e05ff-90e6-432b-c641-d96bf6d9bc23"
      },
      "source": [
        "B"
      ],
      "execution_count": 5,
      "outputs": [
        {
          "output_type": "execute_result",
          "data": {
            "text/plain": [
              "array([[0.41374874, 0.77377447, 0.21241224],\n",
              "       [0.6817703 , 0.96415948, 0.09795249],\n",
              "       [0.89844817, 0.73668254, 0.84175099]])"
            ]
          },
          "metadata": {},
          "execution_count": 5
        }
      ]
    },
    {
      "cell_type": "code",
      "metadata": {
        "colab": {
          "base_uri": "https://localhost:8080/"
        },
        "id": "cu7tWrhp5cuo",
        "outputId": "4941292c-edd3-4505-da2f-b6066a4cd4b6"
      },
      "source": [
        "#더하기\n",
        "A + B"
      ],
      "execution_count": 6,
      "outputs": [
        {
          "output_type": "execute_result",
          "data": {
            "text/plain": [
              "array([[ 1.41374874, -0.22622553,  2.21241224],\n",
              "       [ 3.6817703 ,  2.96415948,  2.09795249],\n",
              "       [ 4.89844817,  1.73668254,  2.84175099]])"
            ]
          },
          "metadata": {},
          "execution_count": 6
        }
      ]
    },
    {
      "cell_type": "code",
      "metadata": {
        "colab": {
          "base_uri": "https://localhost:8080/"
        },
        "id": "GVJoX2EW5jZ-",
        "outputId": "5e5406e5-8a56-4f0c-a40a-69e6c49b8182"
      },
      "source": [
        "#스칼라곱\n",
        "5 * A"
      ],
      "execution_count": 7,
      "outputs": [
        {
          "output_type": "execute_result",
          "data": {
            "text/plain": [
              "array([[ 5, -5, 10],\n",
              "       [15, 10, 10],\n",
              "       [20,  5, 10]])"
            ]
          },
          "metadata": {},
          "execution_count": 7
        }
      ]
    },
    {
      "cell_type": "code",
      "metadata": {
        "colab": {
          "base_uri": "https://localhost:8080/"
        },
        "id": "PbvDulgm5pSq",
        "outputId": "b4cc182e-bd31-4e10-f49c-1f5ae85deda2"
      },
      "source": [
        "#곱하기\n",
        "np.dot(A,B)"
      ],
      "execution_count": 8,
      "outputs": [
        {
          "output_type": "execute_result",
          "data": {
            "text/plain": [
              "array([[1.52887477, 1.28298006, 1.79796173],\n",
              "       [4.40168316, 5.72300746, 2.5166437 ],\n",
              "       [4.1336616 , 5.53262245, 2.63110345]])"
            ]
          },
          "metadata": {},
          "execution_count": 8
        }
      ]
    },
    {
      "cell_type": "code",
      "metadata": {
        "colab": {
          "base_uri": "https://localhost:8080/"
        },
        "id": "Z_Gnsz9C5v90",
        "outputId": "849da643-1291-4283-82b5-344dfc5af3d2"
      },
      "source": [
        "#곱하기\n",
        "A @ B"
      ],
      "execution_count": 9,
      "outputs": [
        {
          "output_type": "execute_result",
          "data": {
            "text/plain": [
              "array([[1.52887477, 1.28298006, 1.79796173],\n",
              "       [4.40168316, 5.72300746, 2.5166437 ],\n",
              "       [4.1336616 , 5.53262245, 2.63110345]])"
            ]
          },
          "metadata": {},
          "execution_count": 9
        }
      ]
    },
    {
      "cell_type": "code",
      "metadata": {
        "colab": {
          "base_uri": "https://localhost:8080/"
        },
        "id": "zLbcW0e050hH",
        "outputId": "c06ca4f8-5408-40ea-f1e7-0e58094bc82f"
      },
      "source": [
        "A @ B + (A + 2 * B)"
      ],
      "execution_count": 12,
      "outputs": [
        {
          "output_type": "execute_result",
          "data": {
            "text/plain": [
              "array([[3.35637226, 1.83052901, 4.22278622],\n",
              "       [8.76522376, 9.65132643, 4.71254869],\n",
              "       [9.93055793, 8.00598753, 6.31460543]])"
            ]
          },
          "metadata": {},
          "execution_count": 12
        }
      ]
    },
    {
      "cell_type": "code",
      "metadata": {
        "id": "uqlPp5-l5-mM"
      },
      "source": [
        ""
      ],
      "execution_count": null,
      "outputs": []
    }
  ]
}
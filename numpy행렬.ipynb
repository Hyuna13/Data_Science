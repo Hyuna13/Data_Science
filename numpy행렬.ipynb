{
  "nbformat": 4,
  "nbformat_minor": 0,
  "metadata": {
    "colab": {
      "name": "numpy행렬.ipynb",
      "provenance": [],
      "authorship_tag": "ABX9TyNhazqCjbwNMZVa4RbEwcp6",
      "include_colab_link": true
    },
    "kernelspec": {
      "name": "python3",
      "display_name": "Python 3"
    },
    "language_info": {
      "name": "python"
    }
  },
  "cells": [
    {
      "cell_type": "markdown",
      "metadata": {
        "id": "view-in-github",
        "colab_type": "text"
      },
      "source": [
        "<a href=\"https://colab.research.google.com/github/Hyuna13/Data_Science/blob/master/numpy%ED%96%89%EB%A0%AC.ipynb\" target=\"_parent\"><img src=\"https://colab.research.google.com/assets/colab-badge.svg\" alt=\"Open In Colab\"/></a>"
      ]
    },
    {
      "cell_type": "code",
      "metadata": {
        "id": "gKd_Yxa1-Wux"
      },
      "source": [
        "import numpy as np"
      ],
      "execution_count": 1,
      "outputs": []
    },
    {
      "cell_type": "code",
      "metadata": {
        "colab": {
          "base_uri": "https://localhost:8080/"
        },
        "id": "YSSMO2R4_YRz",
        "outputId": "86551d46-ced9-4656-fe4a-2191e2ae09f0"
      },
      "source": [
        "#행렬 (4x3행렬)\n",
        "A = np.array([\n",
        "          [1,-1,2],\n",
        "          [3,2,2],\n",
        "          [4,1,2],\n",
        "          [5,3,6]\n",
        "])\n",
        "A"
      ],
      "execution_count": 3,
      "outputs": [
        {
          "output_type": "execute_result",
          "data": {
            "text/plain": [
              "array([[ 1, -1,  2],\n",
              "       [ 3,  2,  2],\n",
              "       [ 4,  1,  2],\n",
              "       [ 5,  3,  6]])"
            ]
          },
          "metadata": {},
          "execution_count": 3
        }
      ]
    },
    {
      "cell_type": "code",
      "metadata": {
        "colab": {
          "base_uri": "https://localhost:8080/"
        },
        "id": "wGQtc_FPAbCV",
        "outputId": "d6cc43cd-bc3e-454b-8320-8e19be2266c5"
      },
      "source": [
        "#행렬(3x2)\n",
        "B = np.array([\n",
        "              [-3,1],\n",
        "              [4,5],\n",
        "              [2,10]\n",
        "])\n",
        "B"
      ],
      "execution_count": 5,
      "outputs": [
        {
          "output_type": "execute_result",
          "data": {
            "text/plain": [
              "array([[-3,  1],\n",
              "       [ 4,  5],\n",
              "       [ 2, 10]])"
            ]
          },
          "metadata": {},
          "execution_count": 5
        }
      ]
    },
    {
      "cell_type": "code",
      "metadata": {
        "colab": {
          "base_uri": "https://localhost:8080/"
        },
        "id": "usTV42uaApaS",
        "outputId": "84d99a32-fd63-4ee3-c448-4bd9be75a374"
      },
      "source": [
        "#랜덤행렬만들기\n",
        "C = np.random.rand(3, 5) #3x5행렬 (0~1사이)\n",
        "C"
      ],
      "execution_count": 6,
      "outputs": [
        {
          "output_type": "execute_result",
          "data": {
            "text/plain": [
              "array([[0.14863936, 0.77580563, 0.89162197, 0.88324579, 0.21221002],\n",
              "       [0.06878991, 0.04286276, 0.79485115, 0.5959981 , 0.95293072],\n",
              "       [0.82720696, 0.09502215, 0.40196372, 0.77144386, 0.03222674]])"
            ]
          },
          "metadata": {},
          "execution_count": 6
        }
      ]
    },
    {
      "cell_type": "code",
      "metadata": {
        "colab": {
          "base_uri": "https://localhost:8080/"
        },
        "id": "MAd5XJEBBZXz",
        "outputId": "1eb9d577-5fee-49fc-e6a5-b75134ebd714"
      },
      "source": [
        "#모든값이 0인 행렬\n",
        "D = np.zeros((2, 4))\n",
        "D"
      ],
      "execution_count": 11,
      "outputs": [
        {
          "output_type": "execute_result",
          "data": {
            "text/plain": [
              "array([[0., 0., 0., 0.],\n",
              "       [0., 0., 0., 0.]])"
            ]
          },
          "metadata": {},
          "execution_count": 11
        }
      ]
    },
    {
      "cell_type": "code",
      "metadata": {
        "colab": {
          "base_uri": "https://localhost:8080/"
        },
        "id": "SSPvJxAiBgmn",
        "outputId": "87aa08bf-18d4-405f-8d83-77a7e2d6e256"
      },
      "source": [
        "#행렬에서 원소 받아오기\n",
        "A"
      ],
      "execution_count": 12,
      "outputs": [
        {
          "output_type": "execute_result",
          "data": {
            "text/plain": [
              "array([[ 1, -1,  2],\n",
              "       [ 3,  2,  2],\n",
              "       [ 4,  1,  2],\n",
              "       [ 5,  3,  6]])"
            ]
          },
          "metadata": {},
          "execution_count": 12
        }
      ]
    },
    {
      "cell_type": "code",
      "metadata": {
        "colab": {
          "base_uri": "https://localhost:8080/"
        },
        "id": "edLqB5S_BuSv",
        "outputId": "81bbd76b-a5b4-4c52-ec58-88584a2c192b"
      },
      "source": [
        "#1행 3열 받아오기 (0부터)\n",
        "A[0][2]"
      ],
      "execution_count": 14,
      "outputs": [
        {
          "output_type": "execute_result",
          "data": {
            "text/plain": [
              "2"
            ]
          },
          "metadata": {},
          "execution_count": 14
        }
      ]
    },
    {
      "cell_type": "code",
      "metadata": {
        "id": "r6OfDZb8Bzoe"
      },
      "source": [
        ""
      ],
      "execution_count": null,
      "outputs": []
    }
  ]
}